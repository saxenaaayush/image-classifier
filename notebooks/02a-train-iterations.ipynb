{
 "cells": [
  {
   "cell_type": "code",
   "execution_count": 3,
   "metadata": {
    "execution": {
     "iopub.execute_input": "2025-07-13T04:26:59.107012Z",
     "iopub.status.busy": "2025-07-13T04:26:59.106562Z",
     "iopub.status.idle": "2025-07-13T04:27:05.741917Z",
     "shell.execute_reply": "2025-07-13T04:27:05.741307Z",
     "shell.execute_reply.started": "2025-07-13T04:26:59.106987Z"
    },
    "trusted": true
   },
   "outputs": [],
   "source": [
    "import os\n",
    "import numpy as np\n",
    "from glob import glob\n",
    "from PIL import Image,ImageEnhance\n",
    "from tqdm import tqdm\n",
    "import torch\n",
    "import random\n",
    "from torch.utils.data import Dataset, DataLoader, random_split,Subset\n",
    "from torchvision import transforms\n",
    "import matplotlib.pyplot as plt\n",
    "import time\n",
    "import torch.nn as nn\n",
    "from torch.optim import AdamW\n",
    "from torch.optim.lr_scheduler import OneCycleLR,CosineAnnealingLR,SequentialLR,LinearLR\n",
    "from sklearn.metrics import roc_auc_score, accuracy_score\n",
    "from torchvision import models\n",
    "from torchvision.models import (\n",
    "    EfficientNet_B0_Weights,\n",
    "    EfficientNet_B1_Weights,\n",
    "    EfficientNet_B2_Weights,\n",
    "    EfficientNet_B3_Weights,\n",
    "    EfficientNet_B4_Weights)\n",
    "from torch.nn.functional import sigmoid\n",
    "import cv2"
   ]
  },
  {
   "cell_type": "code",
   "execution_count": 100,
   "metadata": {
    "execution": {
     "iopub.execute_input": "2025-07-13T08:45:37.637308Z",
     "iopub.status.busy": "2025-07-13T08:45:37.637037Z",
     "iopub.status.idle": "2025-07-13T08:45:37.643100Z",
     "shell.execute_reply": "2025-07-13T08:45:37.642384Z",
     "shell.execute_reply.started": "2025-07-13T08:45:37.637287Z"
    },
    "trusted": true
   },
   "outputs": [],
   "source": [
    "SEED = 42\n",
    "\n",
    "\n",
    "random.seed(SEED)\n",
    "np.random.seed(SEED)\n",
    "torch.manual_seed(SEED)\n",
    "torch.cuda.manual_seed(SEED)\n",
    "torch.backends.cudnn.deterministic = True\n",
    "torch.backends.cudnn.benchmark = False"
   ]
  },
  {
   "cell_type": "code",
   "execution_count": 7,
   "metadata": {
    "execution": {
     "iopub.execute_input": "2025-07-13T04:27:26.419923Z",
     "iopub.status.busy": "2025-07-13T04:27:26.419326Z",
     "iopub.status.idle": "2025-07-13T04:27:26.425375Z",
     "shell.execute_reply": "2025-07-13T04:27:26.424648Z",
     "shell.execute_reply.started": "2025-07-13T04:27:26.419898Z"
    },
    "trusted": true
   },
   "outputs": [],
   "source": [
    "def compute_mean_std(root_dir):\n",
    "    exts = (\"*.png\",)\n",
    "    sum_   = np.zeros(3, dtype=np.float64)\n",
    "    sum_sq = np.zeros(3, dtype=np.float64)\n",
    "    cnt    = 0\n",
    "\n",
    "    files = []\n",
    "    for split in (\"train\", \"test\"):\n",
    "        for cls in (\"normal\",\"cataract\"):\n",
    "            for ext in exts:\n",
    "                files += glob(os.path.join(root_dir, \"processed_images\", split, cls, ext))\n",
    "\n",
    "    for f in tqdm(files, desc=\"Computing mean/std\"):\n",
    "        img = np.array(Image.open(f).convert(\"RGB\")) / 255.0\n",
    "        sum_   += img.mean(axis=(0,1))\n",
    "        sum_sq += (img**2).mean(axis=(0,1))\n",
    "        cnt    += 1\n",
    "\n",
    "    mean = sum_ / cnt\n",
    "    var  = (sum_sq / cnt) - mean**2\n",
    "    std  = np.sqrt(var)\n",
    "    return mean.tolist(), std.tolist()"
   ]
  },
  {
   "cell_type": "code",
   "execution_count": 99,
   "metadata": {
    "execution": {
     "iopub.execute_input": "2025-07-13T08:45:33.971899Z",
     "iopub.status.busy": "2025-07-13T08:45:33.971608Z",
     "iopub.status.idle": "2025-07-13T08:45:33.975836Z",
     "shell.execute_reply": "2025-07-13T08:45:33.975282Z",
     "shell.execute_reply.started": "2025-07-13T08:45:33.971878Z"
    },
    "trusted": true
   },
   "outputs": [],
   "source": [
    "_MEAN, _STD=[0.6257231324993875, 0.4934742948338769, 0.42569583700621416],[0.25667137400692847, 0.2345312511218496, 0.2305881956020596]"
   ]
  },
  {
   "cell_type": "code",
   "execution_count": null,
   "metadata": {
    "execution": {
     "iopub.execute_input": "2025-07-13T05:00:45.152616Z",
     "iopub.status.busy": "2025-07-13T05:00:45.152045Z",
     "iopub.status.idle": "2025-07-13T05:00:45.159749Z",
     "shell.execute_reply": "2025-07-13T05:00:45.159152Z",
     "shell.execute_reply.started": "2025-07-13T05:00:45.152595Z"
    },
    "trusted": true
   },
   "outputs": [],
   "source": [
    "# def clahe_gamma_pil(img, clip_limit=2.0, tile_size=(8,8), gamma=1.2):\n",
    "#     arr = np.array(img)\n",
    "#     lab = cv2.cvtColor(arr, cv2.COLOR_RGB2LAB)\n",
    "#     l, a, b = cv2.split(lab)\n",
    "#     clahe = cv2.createCLAHE(clipLimit=clip_limit, tileGridSize=tile_size)\n",
    "#     l2 = clahe.apply(l)\n",
    "#     lab2 = cv2.merge((l2,a,b))\n",
    "#     rgb2 = cv2.cvtColor(lab2, cv2.COLOR_LAB2RGB)\n",
    "#     pil2 = Image.fromarray(rgb2)\n",
    "#     invGamma = 1.0 / gamma\n",
    "#     table = [((i/255.0)**invGamma)*255 for i in range(256)]\n",
    "#     return pil2.point(table*3)\n",
    "\n",
    "\n",
    "# clean_transforms = transforms.Compose([\n",
    "#     transforms.Resize(256),\n",
    "#     transforms.CenterCrop(224),\n",
    "# ])\n",
    "\n",
    "# def make_train_transforms_iter2(is_cataract: bool):\n",
    "#     base = [\n",
    "#         clean_transforms,\n",
    "#         transforms.RandomHorizontalFlip(),\n",
    "#         transforms.RandomRotation(10),\n",
    "#     ]\n",
    "#     if is_cataract:\n",
    "#         base.append(transforms.Lambda(lambda img: clahe_gamma_pil(img, clip_limit=1.0, gamma=1.1)))  \n",
    "#     base += [\n",
    "#         transforms.ColorJitter(0.1,0.1,0.0,0.0),\n",
    "#         transforms.RandomAdjustSharpness(0.7),\n",
    "#         transforms.ToTensor(),\n",
    "#         transforms.Normalize(_MEAN, _STD),\n",
    "#     ]\n",
    "#     return transforms.Compose(base)\n",
    "\n",
    "\n",
    "# val_transforms = transforms.Compose([\n",
    "#     clean_transforms,\n",
    "#     transforms.ToTensor(),\n",
    "#     transforms.Normalize(_MEAN, _STD)\n",
    "# ])"
   ]
  },
  {
   "cell_type": "code",
   "execution_count": 36,
   "metadata": {
    "execution": {
     "iopub.execute_input": "2025-07-13T05:00:49.815905Z",
     "iopub.status.busy": "2025-07-13T05:00:49.815583Z",
     "iopub.status.idle": "2025-07-13T05:00:49.824691Z",
     "shell.execute_reply": "2025-07-13T05:00:49.824115Z",
     "shell.execute_reply.started": "2025-07-13T05:00:49.815882Z"
    },
    "trusted": true
   },
   "outputs": [],
   "source": [
    "# from torch.utils.data import DataLoader, Subset, random_split\n",
    "# from torchvision.datasets import ImageFolder\n",
    "\n",
    "# class ClassSpecificDataset(ImageFolder):\n",
    "    \n",
    "#     def __init__(self, root, split, base_transform, val_transform):\n",
    "#         super().__init__(f\"{root}/{split}\")\n",
    "#         self.base_transform = base_transform\n",
    "#         self.val_transform  = val_transform\n",
    "\n",
    "#     def __getitem__(self, idx):\n",
    "#         path, label = self.samples[idx]\n",
    "#         img = Image.open(path).convert(\"RGB\")\n",
    "        \n",
    "#         if self.val_transform is not None:\n",
    "#             tfm = self.val_transform\n",
    "#         else:\n",
    "#             tfm = make_train_transforms_iter2(is_cataract=(label==1))\n",
    "#         img = tfm(img)\n",
    "#         return img, label\n",
    "\n",
    "# def get_dataloaders_iter2(root, batch_size=32, val_frac=0.2, num_workers=2):\n",
    "#     full = ClassSpecificDataset(root, \"train\", base_transform=None, val_transform=None)\n",
    "#     n = len(full)\n",
    "#     val_size = int(n * val_frac)\n",
    "#     train_size = n - val_size\n",
    "#     train_idx, val_idx = random_split(list(range(n)), [train_size, val_size])\n",
    "\n",
    "    \n",
    "#     train_ds = Subset(full, train_idx)\n",
    "#     val_ds   = Subset(\n",
    "#         ClassSpecificDataset(root, \"train\", base_transform=None, val_transform=val_transforms),\n",
    "#         val_idx\n",
    "#     )\n",
    "#     test_ds  = ClassSpecificDataset(root, \"test\", base_transform=None, val_transform=val_transforms)\n",
    "\n",
    "    \n",
    "#     return (\n",
    "#       DataLoader(train_ds, batch_size, shuffle=True, \n",
    "#                  num_workers=num_workers, pin_memory=True),\n",
    "#       DataLoader(val_ds,   batch_size, shuffle=False, \n",
    "#                  num_workers=num_workers, pin_memory=True),\n",
    "#       DataLoader(test_ds,  batch_size, shuffle=False, \n",
    "#                  num_workers=num_workers, pin_memory=True),\n",
    "#     )"
   ]
  },
  {
   "cell_type": "code",
   "execution_count": 113,
   "metadata": {
    "execution": {
     "iopub.execute_input": "2025-07-13T08:50:59.689663Z",
     "iopub.status.busy": "2025-07-13T08:50:59.689414Z",
     "iopub.status.idle": "2025-07-13T08:50:59.695352Z",
     "shell.execute_reply": "2025-07-13T08:50:59.694644Z",
     "shell.execute_reply.started": "2025-07-13T08:50:59.689646Z"
    },
    "trusted": true
   },
   "outputs": [],
   "source": [
    "class ImageDataset(Dataset):\n",
    "    def __init__(self, dir, split=\"train\", transform=None):\n",
    "        self.transform = transform\n",
    "        self.samples = []\n",
    "        split_dir = os.path.join(dir, \"processed_images\", split)\n",
    "        for label_name, label_idx in [(\"normal\", 0), (\"cataract\", 1)]:\n",
    "            for img_path in glob(os.path.join(split_dir, label_name, \"*.png\")):\n",
    "                self.samples.append((img_path, label_idx))\n",
    "\n",
    "    def __len__(self):\n",
    "        return len(self.samples)\n",
    "\n",
    "    def __getitem__(self, idx):\n",
    "        img_path, label = self.samples[idx]\n",
    "        img = Image.open(img_path).convert(\"RGB\")\n",
    "        if self.transform:\n",
    "            img = self.transform(img)\n",
    "        return img, torch.tensor(label, dtype=torch.float32)"
   ]
  },
  {
   "cell_type": "code",
   "execution_count": null,
   "metadata": {
    "execution": {
     "iopub.execute_input": "2025-07-13T08:51:01.973417Z",
     "iopub.status.busy": "2025-07-13T08:51:01.972696Z",
     "iopub.status.idle": "2025-07-13T08:51:01.978966Z",
     "shell.execute_reply": "2025-07-13T08:51:01.978315Z",
     "shell.execute_reply.started": "2025-07-13T08:51:01.973393Z"
    },
    "trusted": true
   },
   "outputs": [],
   "source": [
    "def get_dataloaders(\n",
    "    root,\n",
    "    batch_size=32,\n",
    "    val_frac=0.2,\n",
    "    num_workers=2,\n",
    "    train_transform=None,\n",
    "    val_transform=None\n",
    "):\n",
    "\n",
    "    raw_ds = ImageDataset(root, \"train\", transform=None)\n",
    "    n = len(raw_ds)\n",
    "    val_size = int(n * val_frac)\n",
    "    train_size = n - val_size\n",
    "\n",
    "    all_indices = list(range(n))\n",
    "    train_indices, val_indices = random_split(all_indices, [train_size, val_size])\n",
    "\n",
    "    train_ds = Subset(\n",
    "        ImageDataset(root, \"train\", transform=train_transform),\n",
    "        train_indices\n",
    "    )\n",
    "    val_ds = Subset(\n",
    "        ImageDataset(root, \"train\", transform=val_transform),\n",
    "        val_indices\n",
    "    )\n",
    "    test_ds = ImageDataset(root, \"test\", transform=val_transform)\n",
    "\n",
    "    return (\n",
    "        DataLoader(train_ds, batch_size, shuffle=True,  num_workers=num_workers, pin_memory=True),\n",
    "        DataLoader(val_ds,   batch_size, shuffle=False, num_workers=num_workers, pin_memory=True),\n",
    "        DataLoader(test_ds,  batch_size, shuffle=False, num_workers=num_workers, pin_memory=True),\n",
    "    )"
   ]
  },
  {
   "cell_type": "code",
   "execution_count": 93,
   "metadata": {
    "execution": {
     "iopub.execute_input": "2025-07-13T08:44:51.166155Z",
     "iopub.status.busy": "2025-07-13T08:44:51.165659Z",
     "iopub.status.idle": "2025-07-13T08:44:51.172120Z",
     "shell.execute_reply": "2025-07-13T08:44:51.171559Z",
     "shell.execute_reply.started": "2025-07-13T08:44:51.166131Z"
    },
    "trusted": true
   },
   "outputs": [],
   "source": [
    "def build_model(backbone=\"resnet50\", pretrained=True):\n",
    "    if backbone.startswith(\"resnet\"):\n",
    "        model = getattr(models, backbone)(pretrained=pretrained)\n",
    "        in_feats = model.fc.in_features\n",
    "        model.fc = nn.Sequential(\n",
    "            nn.Linear(in_feats, 1)\n",
    "        \n",
    "        )\n",
    "\n",
    "    elif backbone.startswith(\"efficientnet\"):\n",
    "        if pretrained:\n",
    "            weights_map = {\n",
    "                \"efficientnet_b0\": EfficientNet_B0_Weights.DEFAULT,\n",
    "                \"efficientnet_b1\": EfficientNet_B1_Weights.DEFAULT,\n",
    "                \"efficientnet_b2\": EfficientNet_B2_Weights.DEFAULT,\n",
    "                \"efficientnet_b3\": EfficientNet_B3_Weights.DEFAULT,\n",
    "                \"efficientnet_b4\": EfficientNet_B4_Weights.DEFAULT\n",
    "            }\n",
    "            weights = weights_map.get(backbone, None)\n",
    "            if weights is None:\n",
    "                raise ValueError(f\"Pretrained weights not available for {backbone}\")\n",
    "            model = getattr(models, backbone)(weights=weights)\n",
    "        else:\n",
    "            model = getattr(models, backbone)(weights=None)\n",
    "\n",
    "        in_feats = model.classifier[1].in_features\n",
    "        model.classifier = nn.Sequential(\n",
    "            nn.Dropout(0.4),\n",
    "            nn.Linear(in_feats, 1)\n",
    "        \n",
    "        )\n",
    "\n",
    "    else:\n",
    "        raise ValueError(f\"Unsupported backbone: {backbone}\")\n",
    "\n",
    "    return model"
   ]
  },
  {
   "cell_type": "code",
   "execution_count": 94,
   "metadata": {
    "execution": {
     "iopub.execute_input": "2025-07-13T08:44:53.289364Z",
     "iopub.status.busy": "2025-07-13T08:44:53.288650Z",
     "iopub.status.idle": "2025-07-13T08:44:53.295208Z",
     "shell.execute_reply": "2025-07-13T08:44:53.294610Z",
     "shell.execute_reply.started": "2025-07-13T08:44:53.289338Z"
    },
    "trusted": true
   },
   "outputs": [],
   "source": [
    "def train_single_epoch(model, train_loader, optimizer, scheduler, loss_fn, device):\n",
    "    model.train()\n",
    "    t_loss, preds, lbl = 0, [], []\n",
    "\n",
    "    for imgs, labs in tqdm(train_loader, desc=\"Training\", leave=False):\n",
    "        imgs, labs = imgs.to(device), labs.to(device).unsqueeze(1).float()\n",
    "\n",
    "        optimizer.zero_grad()\n",
    "        logits = model(imgs)\n",
    "        loss = loss_fn(logits, labs)\n",
    "        loss.backward()\n",
    "        optimizer.step()\n",
    "        scheduler.step()\n",
    "\n",
    "\n",
    "        probs = torch.sigmoid(logits.detach().cpu())\n",
    "        labs_cpu = labs.detach().cpu()\n",
    "\n",
    "        if probs.ndim > 1:\n",
    "            probs = probs.squeeze(1)\n",
    "        if labs_cpu.ndim > 1:\n",
    "            labs_cpu = labs_cpu.squeeze(1)\n",
    "\n",
    "        preds += probs.tolist()\n",
    "        lbl += labs_cpu.tolist()\n",
    "        t_loss += loss.item() * imgs.size(0)\n",
    "\n",
    "    avg_loss = t_loss / len(train_loader.dataset)\n",
    "    auc = roc_auc_score(lbl, preds)\n",
    "    acc = accuracy_score(lbl, [p > 0.5 for p in preds])\n",
    "    return avg_loss, auc, acc"
   ]
  },
  {
   "cell_type": "code",
   "execution_count": 95,
   "metadata": {
    "execution": {
     "iopub.execute_input": "2025-07-13T08:44:56.107726Z",
     "iopub.status.busy": "2025-07-13T08:44:56.107167Z",
     "iopub.status.idle": "2025-07-13T08:44:56.113524Z",
     "shell.execute_reply": "2025-07-13T08:44:56.112809Z",
     "shell.execute_reply.started": "2025-07-13T08:44:56.107703Z"
    },
    "trusted": true
   },
   "outputs": [],
   "source": [
    "def eval_one_epoch(model, loader, loss_fn, device):\n",
    "    model.eval()\n",
    "    preds, lbl = [], []\n",
    "    total_loss = 0.0\n",
    "\n",
    "    with torch.no_grad():\n",
    "        for imgs, labs in loader:\n",
    "            imgs, labs = imgs.to(device), labs.to(device).unsqueeze(1).float()\n",
    "\n",
    "            logits = model(imgs)\n",
    "            loss = loss_fn(logits, labs)\n",
    "            total_loss += loss.item() * imgs.size(0)\n",
    "\n",
    "            probs = torch.sigmoid(logits.detach().cpu())\n",
    "            labs_cpu = labs.detach().cpu()\n",
    "            if probs.ndim > 1:   probs = probs.squeeze(1)\n",
    "            if labs_cpu.ndim > 1: labs_cpu = labs_cpu.squeeze(1)\n",
    "\n",
    "            preds += probs.tolist()\n",
    "            lbl   += labs_cpu.tolist()\n",
    "\n",
    "    avg_loss = total_loss / len(loader.dataset)\n",
    "    auc      = roc_auc_score(lbl, preds)\n",
    "    acc      = accuracy_score(lbl, [p>0.5 for p in preds])\n",
    "    return avg_loss, auc, acc, preds, lbl"
   ]
  },
  {
   "cell_type": "code",
   "execution_count": 96,
   "metadata": {
    "execution": {
     "iopub.execute_input": "2025-07-13T08:44:58.188596Z",
     "iopub.status.busy": "2025-07-13T08:44:58.188328Z",
     "iopub.status.idle": "2025-07-13T08:44:58.194049Z",
     "shell.execute_reply": "2025-07-13T08:44:58.193481Z",
     "shell.execute_reply.started": "2025-07-13T08:44:58.188574Z"
    },
    "trusted": true
   },
   "outputs": [],
   "source": [
    "clean_transforms_iter1 = transforms.Compose([\n",
    "    transforms.Resize(256),\n",
    "    transforms.CenterCrop(256),\n",
    "])\n",
    "\n",
    "train_transforms_iter1 = transforms.Compose([\n",
    "    transforms.Resize(400),\n",
    "    transforms.CenterCrop(380),\n",
    "    transforms.RandomHorizontalFlip(),\n",
    "    transforms.RandomRotation(10),\n",
    "    transforms.ColorJitter(0.1, 0.1),\n",
    "    transforms.RandomAdjustSharpness(0.7),\n",
    "    transforms.ToTensor(),\n",
    "    transforms.Normalize(_MEAN, _STD)\n",
    "])\n",
    "\n",
    "val_transforms_iter1 = transforms.Compose([\n",
    "    transforms.Resize(400),\n",
    "    transforms.CenterCrop(380),\n",
    "    transforms.ToTensor(),\n",
    "    transforms.Normalize(_MEAN, _STD)\n",
    "])"
   ]
  },
  {
   "cell_type": "code",
   "execution_count": null,
   "metadata": {
    "trusted": true
   },
   "outputs": [],
   "source": []
  },
  {
   "cell_type": "code",
   "execution_count": null,
   "metadata": {
    "execution": {
     "iopub.execute_input": "2025-07-13T08:50:52.136844Z",
     "iopub.status.busy": "2025-07-13T08:50:52.136469Z",
     "iopub.status.idle": "2025-07-13T08:50:52.141851Z",
     "shell.execute_reply": "2025-07-13T08:50:52.141050Z",
     "shell.execute_reply.started": "2025-07-13T08:50:52.136819Z"
    },
    "trusted": true
   },
   "outputs": [
    {
     "name": "stdout",
     "output_type": "stream",
     "text": [
      "Using device: cuda\n"
     ]
    }
   ],
   "source": [
    "DATA_ROOT = \"./data/raw/cataract-image-dataset/processed_images\"\n",
    "BATCH_SIZE   = 32\n",
    "VAL_FRAC     = 0.2\n",
    "\n",
    "BACKBONE     = \"efficientnet_b4\"     # \"resnet_50\"\n",
    "PRETRAINED   = True\n",
    "LR           = 1e-4\n",
    "WEIGHT_DECAY = 1e-4\n",
    "EPOCHS       = 10\n",
    "\n",
    "DEVICE = torch.device(\"cuda\" if torch.cuda.is_available() else \"cpu\")\n",
    "print(\"Using device:\", DEVICE)"
   ]
  },
  {
   "cell_type": "code",
   "execution_count": 115,
   "metadata": {
    "execution": {
     "iopub.execute_input": "2025-07-13T08:51:06.081711Z",
     "iopub.status.busy": "2025-07-13T08:51:06.081459Z",
     "iopub.status.idle": "2025-07-13T08:51:06.099945Z",
     "shell.execute_reply": "2025-07-13T08:51:06.099250Z",
     "shell.execute_reply.started": "2025-07-13T08:51:06.081693Z"
    },
    "trusted": true
   },
   "outputs": [
    {
     "name": "stdout",
     "output_type": "stream",
     "text": [
      "491 ---- <torch.utils.data.dataset.Subset object at 0x792017d88b10> ... <torch.utils.data.dataset.Subset object at 0x792017d88590>\n"
     ]
    }
   ],
   "source": [
    "train_loader_iter1, val_loader_iter1, test_loader_iter1 = get_dataloaders(\n",
    "    root=DATA_ROOT,\n",
    "    batch_size=8,\n",
    "    val_frac=0.2,\n",
    "    num_workers=2,\n",
    "    train_transform=train_transforms_iter1,\n",
    "    val_transform=val_transforms_iter1\n",
    ")"
   ]
  },
  {
   "cell_type": "code",
   "execution_count": 116,
   "metadata": {
    "execution": {
     "iopub.execute_input": "2025-07-13T08:51:12.176790Z",
     "iopub.status.busy": "2025-07-13T08:51:12.176275Z",
     "iopub.status.idle": "2025-07-13T08:51:12.609628Z",
     "shell.execute_reply": "2025-07-13T08:51:12.609088Z",
     "shell.execute_reply.started": "2025-07-13T08:51:12.176752Z"
    },
    "trusted": true
   },
   "outputs": [],
   "source": [
    "model_iter1 = build_model(backbone=\"efficientnet_b4\", pretrained=True).to(DEVICE)\n",
    "\n",
    "for param in model_iter1.features[:3].parameters():\n",
    "    param.requires_grad = False"
   ]
  },
  {
   "cell_type": "code",
   "execution_count": 117,
   "metadata": {
    "execution": {
     "iopub.execute_input": "2025-07-13T08:51:16.524431Z",
     "iopub.status.busy": "2025-07-13T08:51:16.523867Z",
     "iopub.status.idle": "2025-07-13T08:51:16.530539Z",
     "shell.execute_reply": "2025-07-13T08:51:16.529804Z",
     "shell.execute_reply.started": "2025-07-13T08:51:16.524394Z"
    },
    "trusted": true
   },
   "outputs": [],
   "source": [
    "bce_loss_iter1=nn.BCEWithLogitsLoss()\n",
    "\n",
    "opt_iter1 = AdamW(model_iter1.parameters(), lr=1e-4, weight_decay=1e-4)\n",
    "\n",
    "warmup_epochs_iter1 = 2\n",
    "\n",
    "scheduler_iter1 = SequentialLR(\n",
    "    opt_iter1,\n",
    "    schedulers=[\n",
    "        LinearLR(opt_iter1, start_factor=0.1, total_iters=warmup_epochs_iter1),\n",
    "        CosineAnnealingLR(opt_iter1, T_max=EPOCHS - warmup_epochs_iter1)\n",
    "    ],\n",
    "    milestones=[warmup_epochs_iter1]\n",
    ")"
   ]
  },
  {
   "cell_type": "code",
   "execution_count": 119,
   "metadata": {
    "execution": {
     "iopub.execute_input": "2025-07-13T08:52:28.137281Z",
     "iopub.status.busy": "2025-07-13T08:52:28.136988Z",
     "iopub.status.idle": "2025-07-13T08:55:10.926569Z",
     "shell.execute_reply": "2025-07-13T08:55:10.925836Z",
     "shell.execute_reply.started": "2025-07-13T08:52:28.137255Z"
    },
    "trusted": true
   },
   "outputs": [
    {
     "name": "stderr",
     "output_type": "stream",
     "text": [
      "                                                         \r"
     ]
    },
    {
     "name": "stdout",
     "output_type": "stream",
     "text": [
      "Epoch 1/10  Train L:0.2141 AUC:0.9809 Acc:0.9338 | Val   L:0.1517 AUC:0.9899 Acc:0.9388\n"
     ]
    },
    {
     "name": "stderr",
     "output_type": "stream",
     "text": [
      "                                                         \r"
     ]
    },
    {
     "name": "stdout",
     "output_type": "stream",
     "text": [
      "Epoch 2/10  Train L:0.1591 AUC:0.9882 Acc:0.9491 | Val   L:0.1273 AUC:0.9912 Acc:0.9388\n"
     ]
    },
    {
     "name": "stderr",
     "output_type": "stream",
     "text": [
      "                                                         \r"
     ]
    },
    {
     "name": "stdout",
     "output_type": "stream",
     "text": [
      "Epoch 3/10  Train L:0.1237 AUC:0.9933 Acc:0.9542 | Val   L:0.1540 AUC:0.9916 Acc:0.9490\n"
     ]
    },
    {
     "name": "stderr",
     "output_type": "stream",
     "text": [
      "                                                         \r"
     ]
    },
    {
     "name": "stdout",
     "output_type": "stream",
     "text": [
      "Epoch 4/10  Train L:0.1197 AUC:0.9921 Acc:0.9618 | Val   L:0.1638 AUC:0.9907 Acc:0.9490\n"
     ]
    },
    {
     "name": "stderr",
     "output_type": "stream",
     "text": [
      "                                                         \r"
     ]
    },
    {
     "name": "stdout",
     "output_type": "stream",
     "text": [
      "Epoch 5/10  Train L:0.1063 AUC:0.9940 Acc:0.9593 | Val   L:0.1084 AUC:0.9920 Acc:0.9592\n"
     ]
    },
    {
     "name": "stderr",
     "output_type": "stream",
     "text": [
      "                                                         \r"
     ]
    },
    {
     "name": "stdout",
     "output_type": "stream",
     "text": [
      "Epoch 6/10  Train L:0.0960 AUC:0.9939 Acc:0.9771 | Val   L:0.1099 AUC:0.9945 Acc:0.9592\n"
     ]
    },
    {
     "name": "stderr",
     "output_type": "stream",
     "text": [
      "                                                         \r"
     ]
    },
    {
     "name": "stdout",
     "output_type": "stream",
     "text": [
      "Epoch 7/10  Train L:0.0634 AUC:0.9981 Acc:0.9822 | Val   L:0.1405 AUC:0.9937 Acc:0.9490\n"
     ]
    },
    {
     "name": "stderr",
     "output_type": "stream",
     "text": [
      "                                                         \r"
     ]
    },
    {
     "name": "stdout",
     "output_type": "stream",
     "text": [
      "Epoch 8/10  Train L:0.0621 AUC:0.9985 Acc:0.9771 | Val   L:0.1561 AUC:0.9937 Acc:0.9490\n"
     ]
    },
    {
     "name": "stderr",
     "output_type": "stream",
     "text": [
      "                                                         \r"
     ]
    },
    {
     "name": "stdout",
     "output_type": "stream",
     "text": [
      "Epoch 9/10  Train L:0.0641 AUC:0.9980 Acc:0.9771 | Val   L:0.1408 AUC:0.9941 Acc:0.9490\n"
     ]
    },
    {
     "name": "stderr",
     "output_type": "stream",
     "text": [
      "                                                         \r"
     ]
    },
    {
     "name": "stdout",
     "output_type": "stream",
     "text": [
      "Epoch 10/10  Train L:0.0427 AUC:0.9987 Acc:0.9898 | Val   L:0.1487 AUC:0.9941 Acc:0.9490\n"
     ]
    }
   ],
   "source": [
    "best_val_auc_iter1 = 0.0\n",
    "history_iter1 = {\n",
    "    'train_loss': [],\n",
    "    'val_loss': [],\n",
    "    'train_auc': [],\n",
    "    'val_auc': [],\n",
    "    'train_acc': [],\n",
    "    'val_acc': []\n",
    "}\n",
    "\n",
    "for epoch in range(1, EPOCHS + 1):\n",
    "\n",
    "    train_loss, train_auc, train_acc = train_single_epoch(\n",
    "        model_iter1, train_loader_iter1,\n",
    "        opt_iter1, scheduler_iter1,\n",
    "        bce_loss_iter1, DEVICE\n",
    "    )\n",
    "\n",
    " \n",
    "    val_loss, val_auc, val_acc, val_preds, val_labels = eval_one_epoch(\n",
    "        model_iter1, val_loader_iter1,\n",
    "        bce_loss_iter1, DEVICE\n",
    "    )\n",
    "\n",
    "\n",
    "    history_iter1['train_loss'].append(train_loss)\n",
    "    history_iter1['val_loss'].append(val_loss)\n",
    "    history_iter1['train_auc'].append(train_auc)\n",
    "    history_iter1['val_auc'].append(val_auc)\n",
    "    history_iter1['train_acc'].append(train_acc)\n",
    "    history_iter1['val_acc'].append(val_acc)\n",
    "\n",
    "\n",
    "    print(f\"Epoch {epoch}/{EPOCHS}  \"\n",
    "          f\"Train L:{train_loss:.4f} AUC:{train_auc:.4f} Acc:{train_acc:.4f} | \"\n",
    "          f\"Val   L:{val_loss:.4f} AUC:{val_auc:.4f} Acc:{val_acc:.4f}\")\n",
    "\n",
    "\n",
    "    if val_auc > best_val_auc_iter1:\n",
    "        best_val_auc_iter1 = val_auc\n",
    "        torch.save(model_iter1.state_dict(), \"best_model_effnet.pth\")"
   ]
  },
  {
   "cell_type": "code",
   "execution_count": null,
   "metadata": {
    "trusted": true
   },
   "outputs": [],
   "source": [
    "model.load_state_dict(torch.load(\"best_model_effnet.pth\"))\n",
    "model.eval()\n",
    "\n",
    "\n",
    "test_loss, test_auc, test_acc, test_preds, test_labels = eval_one_epoch(\n",
    "    model, test_loader, loss_fn, DEVICE\n",
    ")\n",
    "print(f\"\\n Final Test — Loss: {test_loss:.4f} | AUC: {test_auc:.4f} | Accuracy: {test_acc:.4f}\")"
   ]
  },
  {
   "cell_type": "markdown",
   "metadata": {},
   "source": [
    "**Iteration 3a- Apply Augmentation to both Normal + Cataract images**"
   ]
  },
  {
   "cell_type": "code",
   "execution_count": 44,
   "metadata": {
    "execution": {
     "iopub.execute_input": "2025-07-13T05:24:32.501784Z",
     "iopub.status.busy": "2025-07-13T05:24:32.500819Z",
     "iopub.status.idle": "2025-07-13T05:24:32.509384Z",
     "shell.execute_reply": "2025-07-13T05:24:32.508504Z",
     "shell.execute_reply.started": "2025-07-13T05:24:32.501728Z"
    },
    "trusted": true
   },
   "outputs": [],
   "source": [
    "train_transforms_3a = transforms.Compose([\n",
    "    transforms.Resize(256),\n",
    "    transforms.CenterCrop(224),\n",
    "\n",
    "    \n",
    "    transforms.Lambda(lambda img: clahe_gamma_pil(\n",
    "        img, clip_limit=1.0, tile_size=(8,8), gamma=1.1\n",
    "    )),\n",
    "\n",
    "    transforms.RandomHorizontalFlip(),\n",
    "    transforms.RandomRotation(10),\n",
    "    transforms.ColorJitter(0.1, 0.1),\n",
    "    transforms.RandomAdjustSharpness(0.7),\n",
    "\n",
    "    transforms.ToTensor(),\n",
    "    transforms.Normalize(_MEAN, _STD),\n",
    "])\n",
    "\n",
    "val_transforms_3a = transforms.Compose([\n",
    "    transforms.Resize(256),\n",
    "    transforms.CenterCrop(224),\n",
    "    transforms.ToTensor(),\n",
    "    transforms.Normalize(_MEAN, _STD),\n",
    "])"
   ]
  },
  {
   "cell_type": "code",
   "execution_count": 45,
   "metadata": {
    "execution": {
     "iopub.execute_input": "2025-07-13T05:33:28.742901Z",
     "iopub.status.busy": "2025-07-13T05:33:28.742402Z",
     "iopub.status.idle": "2025-07-13T05:33:28.749528Z",
     "shell.execute_reply": "2025-07-13T05:33:28.748703Z",
     "shell.execute_reply.started": "2025-07-13T05:33:28.742873Z"
    },
    "trusted": true
   },
   "outputs": [],
   "source": [
    "from torch.utils.data import DataLoader, Subset, random_split\n",
    "from torchvision.datasets import ImageFolder\n",
    "\n",
    "def get_dataloaders_3a(\n",
    "    root,\n",
    "    batch_size=32,\n",
    "    val_frac=0.2,\n",
    "    num_workers=2,\n",
    "    train_transform=None,\n",
    "    val_transform=None\n",
    "):\n",
    "    \n",
    "    full_ds = ImageFolder(f\"{root}/train\", transform=None)\n",
    "    n = len(full_ds)\n",
    "    val_size = int(n * val_frac)\n",
    "    train_size = n - val_size\n",
    "\n",
    "    \n",
    "    train_idx, val_idx = random_split(\n",
    "        list(range(n)),\n",
    "        [train_size, val_size]\n",
    "    )\n",
    "\n",
    "\n",
    "    train_subset = Subset(\n",
    "        ImageFolder(f\"{root}/train\", transform=train_transform),\n",
    "        train_idx\n",
    "    )\n",
    "    val_subset = Subset(\n",
    "        ImageFolder(f\"{root}/train\", transform=val_transform),\n",
    "        val_idx\n",
    "    )\n",
    "\n",
    "  \n",
    "    test_ds = ImageFolder(f\"{root}/test\", transform=val_transform)\n",
    "\n",
    "    \n",
    "    train_loader = DataLoader(\n",
    "        train_subset, batch_size, shuffle=True,\n",
    "        num_workers=num_workers, pin_memory=True\n",
    "    )\n",
    "    val_loader = DataLoader(\n",
    "        val_subset, batch_size, shuffle=False,\n",
    "        num_workers=num_workers, pin_memory=True\n",
    "    )\n",
    "    test_loader = DataLoader(\n",
    "        test_ds, batch_size, shuffle=False,\n",
    "        num_workers=num_workers, pin_memory=True\n",
    "    )\n",
    "\n",
    "    return train_loader, val_loader, test_loader"
   ]
  },
  {
   "cell_type": "code",
   "execution_count": 46,
   "metadata": {
    "execution": {
     "iopub.execute_input": "2025-07-13T05:33:49.803302Z",
     "iopub.status.busy": "2025-07-13T05:33:49.802997Z",
     "iopub.status.idle": "2025-07-13T05:33:50.289496Z",
     "shell.execute_reply": "2025-07-13T05:33:50.288956Z",
     "shell.execute_reply.started": "2025-07-13T05:33:49.803281Z"
    },
    "trusted": true
   },
   "outputs": [
    {
     "name": "stderr",
     "output_type": "stream",
     "text": [
      "/usr/local/lib/python3.11/dist-packages/torchvision/models/_utils.py:208: UserWarning: The parameter 'pretrained' is deprecated since 0.13 and may be removed in the future, please use 'weights' instead.\n",
      "  warnings.warn(\n",
      "/usr/local/lib/python3.11/dist-packages/torchvision/models/_utils.py:223: UserWarning: Arguments other than a weight enum or `None` for 'weights' are deprecated since 0.13 and may be removed in the future. The current behavior is equivalent to passing `weights=ResNet50_Weights.IMAGENET1K_V1`. You can also use `weights=ResNet50_Weights.DEFAULT` to get the most up-to-date weights.\n",
      "  warnings.warn(msg)\n"
     ]
    }
   ],
   "source": [
    "model_3a     = build_model(\"resnet50\", pretrained=True).to(DEVICE)\n",
    "loss_fn_3a   = nn.BCEWithLogitsLoss()\n",
    "opt_3a       = AdamW(model_3a.parameters(), lr=5e-4, weight_decay=1e-4)\n",
    "schd_3a      = SequentialLR(\n",
    "    opt_3a,\n",
    "    schedulers=[\n",
    "        LinearLR(opt_3a, start_factor=0.1, total_iters=2),\n",
    "        CosineAnnealingLR(opt_3a, T_max=EPOCHS-2)\n",
    "    ],\n",
    "    milestones=[2]\n",
    ")"
   ]
  },
  {
   "cell_type": "code",
   "execution_count": 48,
   "metadata": {
    "execution": {
     "iopub.execute_input": "2025-07-13T05:34:46.429796Z",
     "iopub.status.busy": "2025-07-13T05:34:46.429166Z",
     "iopub.status.idle": "2025-07-13T05:34:47.827213Z",
     "shell.execute_reply": "2025-07-13T05:34:47.826655Z",
     "shell.execute_reply.started": "2025-07-13T05:34:46.429745Z"
    },
    "trusted": true
   },
   "outputs": [],
   "source": [
    "train_loader_3a, val_loader_3a, test_loader_3a = get_dataloaders_3a(\n",
    "    root=DATA_ROOT,\n",
    "    batch_size=32,\n",
    "    val_frac=0.2,\n",
    "    num_workers=2,\n",
    "    train_transform=train_transforms_3a,\n",
    "    val_transform=val_transforms_3a\n",
    ")"
   ]
  },
  {
   "cell_type": "code",
   "execution_count": 49,
   "metadata": {
    "execution": {
     "iopub.execute_input": "2025-07-13T05:34:51.181208Z",
     "iopub.status.busy": "2025-07-13T05:34:51.180603Z",
     "iopub.status.idle": "2025-07-13T05:37:04.432468Z",
     "shell.execute_reply": "2025-07-13T05:37:04.431431Z",
     "shell.execute_reply.started": "2025-07-13T05:34:51.181183Z"
    },
    "trusted": true
   },
   "outputs": [
    {
     "name": "stderr",
     "output_type": "stream",
     "text": [
      "Training:   8%|▊         | 1/13 [00:01<00:18,  1.53s/it]/usr/local/lib/python3.11/dist-packages/torch/optim/lr_scheduler.py:243: UserWarning: The epoch parameter in `scheduler.step()` was not necessary and is being deprecated where possible. Please use `scheduler.step()` to step the scheduler. During the deprecation, if epoch is different from None, the closed form is used instead of the new chainable form, where available. Please open an issue if you are unable to replicate your use case: https://github.com/pytorch/pytorch/issues/new/choose.\n",
      "  warnings.warn(EPOCH_DEPRECATION_WARNING, UserWarning)\n",
      "                                                         \r"
     ]
    },
    {
     "name": "stdout",
     "output_type": "stream",
     "text": [
      "3a Ep1: Train L0.306/AUC0.945/Acc0.855 | Val L0.311/AUC0.980/Acc0.959\n",
      " ↳ New best AUC: 0.9800\n"
     ]
    },
    {
     "name": "stderr",
     "output_type": "stream",
     "text": [
      "                                                         \r"
     ]
    },
    {
     "name": "stdout",
     "output_type": "stream",
     "text": [
      "3a Ep2: Train L0.077/AUC0.996/Acc0.977 | Val L0.296/AUC0.991/Acc0.959\n",
      " ↳ New best AUC: 0.9908\n"
     ]
    },
    {
     "name": "stderr",
     "output_type": "stream",
     "text": [
      "                                                         \r"
     ]
    },
    {
     "name": "stdout",
     "output_type": "stream",
     "text": [
      "3a Ep3: Train L0.124/AUC0.990/Acc0.952 | Val L0.850/AUC0.946/Acc0.827\n"
     ]
    },
    {
     "name": "stderr",
     "output_type": "stream",
     "text": [
      "                                                         \r"
     ]
    },
    {
     "name": "stdout",
     "output_type": "stream",
     "text": [
      "3a Ep4: Train L0.052/AUC0.999/Acc0.992 | Val L0.432/AUC0.989/Acc0.898\n"
     ]
    },
    {
     "name": "stderr",
     "output_type": "stream",
     "text": [
      "                                                         \r"
     ]
    },
    {
     "name": "stdout",
     "output_type": "stream",
     "text": [
      "3a Ep5: Train L0.043/AUC0.999/Acc0.990 | Val L0.224/AUC0.964/Acc0.969\n"
     ]
    },
    {
     "name": "stderr",
     "output_type": "stream",
     "text": [
      "                                                         \r"
     ]
    },
    {
     "name": "stdout",
     "output_type": "stream",
     "text": [
      "3a Ep6: Train L0.045/AUC0.999/Acc0.987 | Val L0.294/AUC0.967/Acc0.949\n"
     ]
    },
    {
     "name": "stderr",
     "output_type": "stream",
     "text": [
      "                                                         \r"
     ]
    },
    {
     "name": "stdout",
     "output_type": "stream",
     "text": [
      "3a Ep7: Train L0.038/AUC1.000/Acc0.987 | Val L0.287/AUC0.994/Acc0.929\n",
      " ↳ New best AUC: 0.9942\n"
     ]
    },
    {
     "name": "stderr",
     "output_type": "stream",
     "text": [
      "                                                         \r"
     ]
    },
    {
     "name": "stdout",
     "output_type": "stream",
     "text": [
      "3a Ep8: Train L0.027/AUC1.000/Acc0.985 | Val L0.165/AUC0.984/Acc0.959\n"
     ]
    },
    {
     "name": "stderr",
     "output_type": "stream",
     "text": [
      "                                                         \r"
     ]
    },
    {
     "name": "stdout",
     "output_type": "stream",
     "text": [
      "3a Ep9: Train L0.025/AUC1.000/Acc0.992 | Val L0.289/AUC0.987/Acc0.959\n"
     ]
    },
    {
     "name": "stderr",
     "output_type": "stream",
     "text": [
      "                                                         \r"
     ]
    },
    {
     "name": "stdout",
     "output_type": "stream",
     "text": [
      "3a Ep10: Train L0.029/AUC0.999/Acc0.992 | Val L0.309/AUC0.965/Acc0.969\n"
     ]
    }
   ],
   "source": [
    "best_val_auc_3a = 0.0\n",
    "history_3a = {k:[] for k in ['train_loss','val_loss','train_auc','val_auc','train_acc','val_acc']}\n",
    "\n",
    "for epoch in range(1, EPOCHS+1):\n",
    "    tl, ta, tc = train_single_epoch(\n",
    "        model_3a, train_loader_3a, opt_3a, schd_3a, loss_fn_3a, DEVICE\n",
    "    )\n",
    "    vl, va, vc, vp, vlbl = eval_one_epoch(\n",
    "        model_3a, val_loader_3a, loss_fn_3a, DEVICE\n",
    "    )\n",
    "\n",
    "    # Record & print\n",
    "    history_3a['train_loss'].append(tl)\n",
    "    history_3a['val_loss'].append(vl)\n",
    "    history_3a['train_auc'].append(ta)\n",
    "    history_3a['val_auc'].append(va)\n",
    "    history_3a['train_acc'].append(tc)\n",
    "    history_3a['val_acc'].append(vc)\n",
    "\n",
    "    print(\n",
    "      f\"3a Ep{epoch}: Train L{tl:.3f}/AUC{ta:.3f}/Acc{tc:.3f} | \"\n",
    "      f\"Val L{vl:.3f}/AUC{va:.3f}/Acc{vc:.3f}\"\n",
    "    )\n",
    "\n",
    "    if va > best_val_auc_3a:\n",
    "        best_val_auc_3a = va\n",
    "        torch.save(model_3a.state_dict(), \"best_model_3a.pth\")\n",
    "        print(f\" ↳ New best AUC: {best_val_auc_3a:.4f}\")"
   ]
  },
  {
   "cell_type": "markdown",
   "metadata": {},
   "source": [
    "**Iteration 3b- PreProcess all images and then train**"
   ]
  },
  {
   "cell_type": "code",
   "execution_count": 50,
   "metadata": {
    "execution": {
     "iopub.execute_input": "2025-07-13T06:03:24.358216Z",
     "iopub.status.busy": "2025-07-13T06:03:24.357542Z",
     "iopub.status.idle": "2025-07-13T06:06:41.399962Z",
     "shell.execute_reply": "2025-07-13T06:06:41.399118Z",
     "shell.execute_reply.started": "2025-07-13T06:03:24.358186Z"
    },
    "trusted": true
   },
   "outputs": [],
   "source": [
    "import os, cv2, numpy as np\n",
    "from PIL import Image\n",
    "\n",
    "def preprocess_folder(src_dir, dst_dir, clip=1.0, tile=(8,8), gamma=1.1):\n",
    "    os.makedirs(dst_dir, exist_ok=True)\n",
    "    for fname in os.listdir(src_dir):\n",
    "        if not fname.lower().endswith('.png'): continue\n",
    "        img = Image.open(os.path.join(src_dir, fname)).convert('RGB')\n",
    "        arr = np.array(img)\n",
    "        lab = cv2.cvtColor(arr, cv2.COLOR_RGB2LAB)\n",
    "        l,a,b = cv2.split(lab)\n",
    "        clahe = cv2.createCLAHE(clipLimit=clip, tileGridSize=tile)\n",
    "        l2 = clahe.apply(l)\n",
    "        merged = cv2.merge((l2,a,b))\n",
    "        rgb2   = cv2.cvtColor(merged, cv2.COLOR_LAB2RGB)\n",
    "        pil2   = Image.fromarray(rgb2)\n",
    "      \n",
    "        invG = 1.0 / gamma\n",
    "        table = [((i/255.0)**invG)*255 for i in range(256)]\n",
    "        out_img = pil2.point(table*3)\n",
    "        out_img.save(os.path.join(dst_dir, fname))\n",
    "\n",
    "\n",
    "RAW_ROOT  = DATA_ROOT\n",
    "PROC_ROOT = \"/kaggle/working/data_processed\"\n",
    "\n",
    "for split in [\"train\", \"test\"]:\n",
    "    for cls in [\"cataract\", \"normal\"]:\n",
    "        src = os.path.join(RAW_ROOT, split, cls)\n",
    "        dst = os.path.join(PROC_ROOT, split, cls)\n",
    "        preprocess_folder(src, dst, clip=1.0, tile=(8,8), gamma=1.1)"
   ]
  },
  {
   "cell_type": "code",
   "execution_count": 57,
   "metadata": {
    "execution": {
     "iopub.execute_input": "2025-07-13T06:21:11.997716Z",
     "iopub.status.busy": "2025-07-13T06:21:11.997096Z",
     "iopub.status.idle": "2025-07-13T06:21:12.013401Z",
     "shell.execute_reply": "2025-07-13T06:21:12.012812Z",
     "shell.execute_reply.started": "2025-07-13T06:21:11.997691Z"
    },
    "trusted": true
   },
   "outputs": [],
   "source": [
    "train_transforms_3b = transforms.Compose([\n",
    "    transforms.Resize(256),\n",
    "    transforms.CenterCrop(224),\n",
    "    transforms.RandomHorizontalFlip(),\n",
    "    transforms.RandomRotation(10),\n",
    "    transforms.ColorJitter(0.1, 0.1),\n",
    "    transforms.RandomAdjustSharpness(0.7),\n",
    "    transforms.ToTensor(),\n",
    "    transforms.Normalize(_MEAN, _STD),\n",
    "])\n",
    "\n",
    "# 2.B) Val/Test transforms (no randomness)\n",
    "val_transforms_3b = transforms.Compose([\n",
    "    transforms.Resize(256),\n",
    "    transforms.CenterCrop(224),\n",
    "    transforms.ToTensor(),\n",
    "    transforms.Normalize(_MEAN, _STD),\n",
    "])\n",
    "\n",
    "# 2.C) Build datasets & loaders from processed data\n",
    "base_dataset = ImageFolder(os.path.join(PROC_ROOT, \"train\"))\n",
    "\n",
    "# 2. Create deterministic split\n",
    "n = len(base_dataset)\n",
    "val_count = int(n * 0.2)\n",
    "train_count = n - val_count\n",
    "train_idx, val_idx = random_split(\n",
    "    list(range(n)),\n",
    "    [train_count, val_count],\n",
    "    generator=torch.Generator().manual_seed(42)  # to keep splits reproducible\n",
    ")\n",
    "\n",
    "# 3. Apply correct transforms to each split via Subset + manual wrapping\n",
    "train_ds_3b = Subset(ImageFolder(os.path.join(PROC_ROOT, \"train\"), transform=train_transforms_3b), train_idx)\n",
    "val_ds_3b   = Subset(ImageFolder(os.path.join(PROC_ROOT, \"train\"), transform=val_transforms_3b), val_idx)\n",
    "test_ds_3b  = ImageFolder(os.path.join(PROC_ROOT, \"test\"), transform=val_transforms_3b)\n",
    "\n",
    "# 4. Dataloaders\n",
    "train_loader_3b = DataLoader(train_ds_3b, batch_size=32, shuffle=True,  num_workers=2, pin_memory=True)\n",
    "val_loader_3b   = DataLoader(val_ds_3b,   batch_size=32, shuffle=False, num_workers=2, pin_memory=True)\n",
    "test_loader_3b  = DataLoader(test_ds_3b,  batch_size=32, shuffle=False, num_workers=2, pin_memory=True)\n"
   ]
  },
  {
   "cell_type": "code",
   "execution_count": 58,
   "metadata": {
    "execution": {
     "iopub.execute_input": "2025-07-13T06:21:33.635262Z",
     "iopub.status.busy": "2025-07-13T06:21:33.634973Z",
     "iopub.status.idle": "2025-07-13T06:21:33.640349Z",
     "shell.execute_reply": "2025-07-13T06:21:33.639744Z",
     "shell.execute_reply.started": "2025-07-13T06:21:33.635244Z"
    },
    "trusted": true
   },
   "outputs": [
    {
     "name": "stdout",
     "output_type": "stream",
     "text": [
      "Overlap: 0\n"
     ]
    }
   ],
   "source": [
    "train_files = set([base_dataset.samples[i][0] for i in train_idx])\n",
    "val_files   = set([base_dataset.samples[i][0] for i in val_idx])\n",
    "print(\"Overlap:\", len(train_files & val_files)) "
   ]
  },
  {
   "cell_type": "code",
   "execution_count": 59,
   "metadata": {
    "execution": {
     "iopub.execute_input": "2025-07-13T06:21:52.898943Z",
     "iopub.status.busy": "2025-07-13T06:21:52.898420Z",
     "iopub.status.idle": "2025-07-13T06:21:53.318868Z",
     "shell.execute_reply": "2025-07-13T06:21:53.318302Z",
     "shell.execute_reply.started": "2025-07-13T06:21:52.898919Z"
    },
    "trusted": true
   },
   "outputs": [
    {
     "name": "stderr",
     "output_type": "stream",
     "text": [
      "/usr/local/lib/python3.11/dist-packages/torchvision/models/_utils.py:208: UserWarning: The parameter 'pretrained' is deprecated since 0.13 and may be removed in the future, please use 'weights' instead.\n",
      "  warnings.warn(\n",
      "/usr/local/lib/python3.11/dist-packages/torchvision/models/_utils.py:223: UserWarning: Arguments other than a weight enum or `None` for 'weights' are deprecated since 0.13 and may be removed in the future. The current behavior is equivalent to passing `weights=ResNet50_Weights.IMAGENET1K_V1`. You can also use `weights=ResNet50_Weights.DEFAULT` to get the most up-to-date weights.\n",
      "  warnings.warn(msg)\n"
     ]
    }
   ],
   "source": [
    "model_3b     = build_model(\"resnet50\", pretrained=True).to(DEVICE)\n",
    "loss_fn_3b   = nn.BCEWithLogitsLoss()\n",
    "opt_3b       = AdamW(model_3b.parameters(), lr=5e-4, weight_decay=1e-4)\n",
    "schd_3b      = SequentialLR(\n",
    "    opt_3b,\n",
    "    schedulers=[\n",
    "        LinearLR(opt_3b, start_factor=0.1, total_iters=2),\n",
    "        CosineAnnealingLR(opt_3b, T_max=EPOCHS-2)\n",
    "    ],\n",
    "    milestones=[2]\n",
    ")"
   ]
  },
  {
   "cell_type": "code",
   "execution_count": 62,
   "metadata": {
    "execution": {
     "iopub.execute_input": "2025-07-13T06:36:01.446151Z",
     "iopub.status.busy": "2025-07-13T06:36:01.445423Z",
     "iopub.status.idle": "2025-07-13T06:37:54.266518Z",
     "shell.execute_reply": "2025-07-13T06:37:54.265830Z",
     "shell.execute_reply.started": "2025-07-13T06:36:01.446125Z"
    },
    "trusted": true
   },
   "outputs": [
    {
     "name": "stderr",
     "output_type": "stream",
     "text": [
      "                                                         \r"
     ]
    },
    {
     "name": "stdout",
     "output_type": "stream",
     "text": [
      "3b Ep1: Train L0.0165/AUC0.9999/Acc0.9975 | Val L0.2646/AUC0.9841/Acc0.9490\n",
      " ↳ New best AUC: 0.9841\n"
     ]
    },
    {
     "name": "stderr",
     "output_type": "stream",
     "text": [
      "                                                         \r"
     ]
    },
    {
     "name": "stdout",
     "output_type": "stream",
     "text": [
      "3b Ep2: Train L0.0060/AUC1.0000/Acc1.0000 | Val L0.2590/AUC0.9816/Acc0.9490\n"
     ]
    },
    {
     "name": "stderr",
     "output_type": "stream",
     "text": [
      "                                                         \r"
     ]
    },
    {
     "name": "stdout",
     "output_type": "stream",
     "text": [
      "3b Ep3: Train L0.0033/AUC1.0000/Acc1.0000 | Val L0.2483/AUC0.9748/Acc0.9286\n"
     ]
    },
    {
     "name": "stderr",
     "output_type": "stream",
     "text": [
      "                                                         \r"
     ]
    },
    {
     "name": "stdout",
     "output_type": "stream",
     "text": [
      "3b Ep4: Train L0.0435/AUC0.9990/Acc0.9822 | Val L1.1815/AUC0.9354/Acc0.7959\n"
     ]
    },
    {
     "name": "stderr",
     "output_type": "stream",
     "text": [
      "                                                         \r"
     ]
    },
    {
     "name": "stdout",
     "output_type": "stream",
     "text": [
      "3b Ep5: Train L0.1190/AUC0.9938/Acc0.9466 | Val L1.7589/AUC0.9059/Acc0.8776\n"
     ]
    },
    {
     "name": "stderr",
     "output_type": "stream",
     "text": [
      "                                                         \r"
     ]
    },
    {
     "name": "stdout",
     "output_type": "stream",
     "text": [
      "3b Ep6: Train L0.0824/AUC0.9926/Acc0.9822 | Val L0.7344/AUC0.9300/Acc0.9286\n"
     ]
    },
    {
     "name": "stderr",
     "output_type": "stream",
     "text": [
      "                                                         \r"
     ]
    },
    {
     "name": "stdout",
     "output_type": "stream",
     "text": [
      "3b Ep7: Train L0.0703/AUC0.9956/Acc0.9796 | Val L0.4496/AUC0.9627/Acc0.8776\n"
     ]
    },
    {
     "name": "stderr",
     "output_type": "stream",
     "text": [
      "                                                         \r"
     ]
    },
    {
     "name": "stdout",
     "output_type": "stream",
     "text": [
      "3b Ep8: Train L0.1096/AUC0.9957/Acc0.9517 | Val L0.7675/AUC0.9694/Acc0.8367\n"
     ]
    },
    {
     "name": "stderr",
     "output_type": "stream",
     "text": [
      "                                                         \r"
     ]
    },
    {
     "name": "stdout",
     "output_type": "stream",
     "text": [
      "3b Ep9: Train L0.0644/AUC0.9958/Acc0.9822 | Val L0.2168/AUC0.9786/Acc0.9388\n"
     ]
    },
    {
     "name": "stderr",
     "output_type": "stream",
     "text": [
      "                                                         \r"
     ]
    },
    {
     "name": "stdout",
     "output_type": "stream",
     "text": [
      "3b Ep10: Train L0.0499/AUC0.9985/Acc0.9847 | Val L0.1875/AUC0.9849/Acc0.9286\n",
      " ↳ New best AUC: 0.9849\n"
     ]
    }
   ],
   "source": [
    "best_val_auc_3b = 0.0\n",
    "history_3b = {k: [] for k in ['train_loss','val_loss','train_auc','val_auc','train_acc','val_acc']}\n",
    "\n",
    "for epoch in range(1, EPOCHS + 1):\n",
    "    # Train\n",
    "    tl, ta, tc = train_single_epoch(\n",
    "        model_3b, train_loader_3b, opt_3b, schd_3b, loss_fn_3b, DEVICE\n",
    "    )\n",
    "    # Validate\n",
    "    vl, va, vc, vp, vlbl = eval_one_epoch(\n",
    "        model_3b, val_loader_3b, loss_fn_3b, DEVICE\n",
    "    )\n",
    "\n",
    "    # Record\n",
    "    history_3b['train_loss'].append(tl)\n",
    "    history_3b['val_loss'].append(vl)\n",
    "    history_3b['train_auc'].append(ta)\n",
    "    history_3b['val_auc'].append(va)\n",
    "    history_3b['train_acc'].append(tc)\n",
    "    history_3b['val_acc'].append(vc)\n",
    "\n",
    "    # Log\n",
    "    print(\n",
    "        f\"3b Ep{epoch}: Train L{tl:.4f}/AUC{ta:.4f}/Acc{tc:.4f} | \"\n",
    "        f\"Val L{vl:.4f}/AUC{va:.4f}/Acc{vc:.4f}\"\n",
    "    )\n",
    "\n",
    "    # Checkpoint\n",
    "    if va > best_val_auc_3b:\n",
    "        best_val_auc_3b = va\n",
    "        torch.save(model_3b.state_dict(), \"best_model_3b.pth\")\n",
    "        print(f\" ↳ New best AUC: {best_val_auc_3b:.4f}\")"
   ]
  },
  {
   "cell_type": "code",
   "execution_count": 63,
   "metadata": {
    "execution": {
     "iopub.execute_input": "2025-07-13T06:41:39.692980Z",
     "iopub.status.busy": "2025-07-13T06:41:39.692308Z",
     "iopub.status.idle": "2025-07-13T06:41:39.876391Z",
     "shell.execute_reply": "2025-07-13T06:41:39.875530Z",
     "shell.execute_reply.started": "2025-07-13T06:41:39.692951Z"
    },
    "trusted": true
   },
   "outputs": [
    {
     "data": {
      "image/png": "[encoded data removed]",
      "text/plain": [
       "<Figure size 800x500 with 1 Axes>"
      ]
     },
     "metadata": {},
     "output_type": "display_data"
    }
   ],
   "source": [
    "epochs = range(1, EPOCHS+1)\n",
    "plt.figure(figsize=(8,5))\n",
    "plt.plot(epochs, history_3b['train_loss'], label='Train Loss')\n",
    "plt.plot(epochs, history_3b['val_loss'],   label='Val Loss')\n",
    "plt.xlabel(\"Epoch\")\n",
    "plt.ylabel(\"Loss\")\n",
    "plt.title(\"Training vs Validation Loss (Iter2)\")\n",
    "plt.legend()\n",
    "plt.grid(True)\n",
    "plt.show()"
   ]
  }
 ],
 "metadata": {
  "kaggle": {
   "accelerator": "nvidiaTeslaT4",
   "dataSources": [
    {
     "datasetId": 3115000,
     "sourceId": 5392218,
     "sourceType": "datasetVersion"
    }
   ],
   "dockerImageVersionId": 31090,
   "isGpuEnabled": true,
   "isInternetEnabled": true,
   "language": "python",
   "sourceType": "notebook"
  },
  "kernelspec": {
   "display_name": "Python 3",
   "language": "python",
   "name": "python3"
  },
  "language_info": {
   "codemirror_mode": {
    "name": "ipython",
    "version": 3
   },
   "file_extension": ".py",
   "mimetype": "text/x-python",
   "name": "python",
   "nbconvert_exporter": "python",
   "pygments_lexer": "ipython3",
   "version": "3.11.13"
  }
 },
 "nbformat": 4,
 "nbformat_minor": 4
}
